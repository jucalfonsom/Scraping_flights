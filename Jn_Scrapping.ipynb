{
 "metadata": {
  "language_info": {
   "codemirror_mode": {
    "name": "ipython",
    "version": 3
   },
   "file_extension": ".py",
   "mimetype": "text/x-python",
   "name": "python",
   "nbconvert_exporter": "python",
   "pygments_lexer": "ipython3",
   "version": "3.9.0-final"
  },
  "orig_nbformat": 2,
  "kernelspec": {
   "name": "Python 3.9.0 64-bit ('env')",
   "display_name": "Python 3.9.0 64-bit ('env')",
   "metadata": {
    "interpreter": {
     "hash": "ed104a8884b41bce009ade70a47f628e88061fe1c48af6b6e885a1cb25caf13b"
    }
   }
  }
 },
 "nbformat": 4,
 "nbformat_minor": 2,
 "cells": [
  {
   "source": [
    "# Scrapping Viva Air Page"
   ],
   "cell_type": "markdown",
   "metadata": {}
  },
  {
   "cell_type": "code",
   "execution_count": 1,
   "metadata": {},
   "outputs": [],
   "source": [
    "import requests\n",
    "from bs4 import BeautifulSoup \n"
   ]
  },
  {
   "cell_type": "code",
   "execution_count": 26,
   "metadata": {},
   "outputs": [],
   "source": [
    "url = 'https://www.vivaair.com/co/es/vuelo?DepartureCity=BOG&ArrivalCity=ADZ&DepartureDate=2021-04-01&ReturnDate=2021-04-11&Adults=2&Currency=COP'"
   ]
  },
  {
   "cell_type": "code",
   "execution_count": 27,
   "metadata": {},
   "outputs": [
    {
     "output_type": "execute_result",
     "data": {
      "text/plain": [
       "200"
      ]
     },
     "metadata": {},
     "execution_count": 27
    }
   ],
   "source": [
    "r = requests.get(url)\n",
    "r.status_code"
   ]
  },
  {
   "cell_type": "code",
   "execution_count": 10,
   "metadata": {},
   "outputs": [],
   "source": [
    "s = BeautifulSoup(r.text, 'html.parser')"
   ]
  },
  {
   "cell_type": "code",
   "execution_count": 11,
   "metadata": {},
   "outputs": [
    {
     "output_type": "execute_result",
     "data": {
      "text/plain": [
       "<bound method Tag.prettify of <!DOCTYPE html>\n",
       "<html lang=\"en\"><head><meta charset=\"utf-8\"/><meta content=\"IE=edge\" http-equiv=\"X-UA-Compatible\"/><meta content=\"width=device-width,initial-scale=1\" name=\"viewport\"/><meta itemprop=\"name\"/><meta property=\"og:title\"/><meta name=\"twitter:title\"/><meta name=\"description\"/><meta itemprop=\"description\"/><meta property=\"og:description\"/><meta name=\"twitter:description\"/><meta itemprop=\"image\"/><meta property=\"og:image\"/><meta name=\"twitter:image\"/><meta property=\"og:url\"/><meta name=\"twitter:url\"/><meta content=\"website\" property=\"og:type\"/><meta content=\"OZv13g8Pr9vU-gokIm-Gh0Bp22oR0l9XIHqa_jnPQ4M\" name=\"google-site-verification\"/><meta content=\"0.2.5916\" name=\"version\"/><meta name=\"keywords\"/><title>VivaAir</title><link href=\"/static/img/icons/vivaair/apple-touch-icon-57x57.png?v=3\" rel=\"apple-touch-icon\" sizes=\"57x57\"/><link href=\"/static/img/icons/vivaair/apple-touch-icon-60x60.png?v=3\" rel=\"apple-touch-icon\" sizes=\"60x60\"/><link href=\"/static/img/icons/vivaair/apple-touch-icon-72x72.png?v=3\" rel=\"apple-touch-icon\" sizes=\"72x72\"/><link href=\"/static/img/icons/vivaair/apple-touch-icon-76x76.png?v=3\" rel=\"apple-touch-icon\" sizes=\"76x76\"/><link href=\"/static/img/icons/vivaair/apple-touch-icon-114x114.png?v=3\" rel=\"apple-touch-icon\" sizes=\"114x114\"/><link href=\"/static/img/icons/vivaair/apple-touch-icon-120x120.png?v=3\" rel=\"apple-touch-icon\" sizes=\"120x120\"/><link href=\"/static/img/icons/vivaair/apple-touch-icon-144x144.png?v=3\" rel=\"apple-touch-icon\" sizes=\"144x144\"/><link href=\"/static/img/icons/vivaair/apple-touch-icon-152x152.png?v=3\" rel=\"apple-touch-icon\" sizes=\"152x152\"/><link href=\"/static/img/icons/vivaair/apple-touch-icon-180x180.png?v=3\" rel=\"apple-touch-icon\" sizes=\"180x180\"/><link href=\"/static/img/icons/vivaair/favicon-32x32.png?v=3\" rel=\"icon\" sizes=\"32x32\" type=\"image/png\"/><link href=\"/static/img/icons/vivaair/favicon-16x16.png?v=3\" rel=\"icon\" sizes=\"16x16\" type=\"image/png\"/><!--[if IE]><link rel=\"shortcut icon\" href=\"/static/img/icons/favicon.ico?v=3\"/><![endif]--><link href=\"/static/manifests/vivaair/manifest.json?v=3\" rel=\"manifest\"/><link color=\"#5bbad5\" href=\"/static/img/icons/vivaair/safari-pinned-tab.svg?v=3\" rel=\"mask-icon\"/><link href=\"/static/img/icons/vivaair/favicon.ico?v=3\" rel=\"shortcut icon\"/><meta content=\"#ffc40d\" name=\"msapplication-TileColor\"/><meta content=\"/static/img/icons/vivaair/mstile-144x144.png?v=3\" name=\"msapplication-TileImage\"/><meta content=\"/static/img/icons/vivaair/browserconfig.xml?v=3\" name=\"msapplication-config\"/><meta content=\"#ffffff\" name=\"theme-color\"/><link crossorigin=\"\" href=\"https://ezy-api.vivaair.com\" rel=\"preconnect\"/><link as=\"style\" href=\"https://fonts.googleapis.com/icon?family=Material+Icons\" rel=\"preload\"/><link href=\"https://fonts.googleapis.com/icon?family=Material+Icons\" rel=\"stylesheet\"/><link href=\"https://fonts.googleapis.com/css?family=Muli:200,400,900i\" rel=\"stylesheet\"/><style>body {\n",
       "        padding: 0;\n",
       "        margin: 0;\n",
       "      }\n",
       "      #static-startpage .loader {\n",
       "        position: absolute;\n",
       "        margin: auto;\n",
       "        top: 0;\n",
       "        right: 0;\n",
       "        bottom: 0;\n",
       "        left: 0;\n",
       "        width: 210px;\n",
       "        height: 210px;\n",
       "      }\n",
       "      #static-startpage .loader div {\n",
       "        box-sizing: border-box;\n",
       "        display: block;\n",
       "        position: absolute;\n",
       "        width: 200px;\n",
       "        height: 200px;\n",
       "        margin: 6px;\n",
       "        border: 6px solid #cc1212;\n",
       "        border-radius: 50%;\n",
       "        animation: loader 1.2s cubic-bezier(0.5, 0, 0.5, 1) infinite;\n",
       "        border-color: #cc1212 transparent transparent transparent;\n",
       "      }\n",
       "      #static-startpage .loader div:nth-child(1) {\n",
       "        animation-delay: -0.45s;\n",
       "      }\n",
       "      #static-startpage .loader div:nth-child(2) {\n",
       "        animation-delay: -0.3s;\n",
       "      }\n",
       "      #static-startpage .loader div:nth-child(3) {\n",
       "        animation-delay: -0.15s;\n",
       "      }\n",
       "      #static-startpage .loader img {\n",
       "        margin-top: 85px;\n",
       "        margin-left: 35px;\n",
       "        width: 140px;\n",
       "      }\n",
       "\n",
       "      @keyframes loader {\n",
       "        0% {\n",
       "          transform: rotate(0deg);\n",
       "        }\n",
       "        100% {\n",
       "          transform: rotate(360deg);\n",
       "        }\n",
       "      }</style><style>.async-hide .app #search {\n",
       "        opacity: 0 !important;\n",
       "      }</style><script src=\"https://www.datadoghq-browser-agent.com/datadog-logs-us.js\" type=\"text/javascript\"></script><script>DD_LOGS.init({\n",
       "        clientToken: 'pub45dff2ca25f0f96ffa3725d4e2fb8be9',\n",
       "        forwardErrorsToLogs: true,\n",
       "      })\n",
       "      DD_LOGS.addLoggerGlobalContext('version', '0.2.5916')\n",
       "      DD_LOGS.addLoggerGlobalContext(\n",
       "        'env',\n",
       "        'Production'\n",
       "      )</script><script>window.prismic = {\n",
       "        endpoint: 'https://vivaair.prismic.io/api/v2',\n",
       "      }</script><script async=\"\" src=\"https://static.cdn.prismic.io/prismic.min.js\"></script><script type=\"text/javascript\">window.runtimeConfig = {\"apiHost\":\"https://ezy-api.vivaair.com\",\"environment\":\"Production\",\"dataDog\":{\"enabled\":true,\"clientToken\":\"pub45dff2ca25f0f96ffa3725d4e2fb8be9\"},\"features\":{\"verbose_api_messages_enabled\":true},\"google\":{\"clientId\":\"960625861781-u0g71ps1044ej61qkbej1uhbotpbof11.apps.googleusercontent.com\"},\"facebook\":{\"appId\":\"172609033180326\"},\"googleTagManger\":{\"id\":\"GTM-WB5JLNZ\"},\"oneSignal\":{\"id\":\"bee04d29-c443-4261-9905-af044b127c16\"},\"supportedCountries\":[\"co\",\"pe\"],\"deviceFingerprint\":{\"url\":\"https://h.online-metrix.net/fp/tags.js\",\"organizationId\":\"k8vif92e\"}}</script><script>;(function(w, d, s, l, i) {\n",
       "        if (window.location.search.indexOf('externalscripts=off') !== -1) return\n",
       "        w[l] = w[l] || []\n",
       "        w[l].push({ 'gtm.start': new Date().getTime(), event: 'gtm.js' })\n",
       "        var f = d.getElementsByTagName(s)[0],\n",
       "          j = d.createElement(s),\n",
       "          dl = l != 'dataLayer' ? '&l=' + l : ''\n",
       "        j.async = true\n",
       "        j.src = 'https://www.googletagmanager.com/gtm.js?id=' + i + dl\n",
       "        f.parentNode.insertBefore(j, f)\n",
       "      })(window, document, 'script', 'dataLayer', window.runtimeConfig.googleTagManger.id)</script><script async=\"\" src=\"https://cdn.onesignal.com/sdks/OneSignalSDK.js\"></script><script>function saveCountryCode(val) {\n",
       "        window.cloudFrontViewerCountry = val.countryCode\n",
       "      }</script><script src=\"https://www.vivaair.com/geo\" type=\"text/javascript\"></script><link href=\"/static/css/app.fb119100a7fff05de19d.css\" rel=\"stylesheet\"/><link href=\"/static/css/vendors~app.af24fcabc6861a5c7400.css\" rel=\"stylesheet\"/></head><body><div id=\"app\"><div id=\"static-startpage\"><div class=\"loader\"><div></div><div></div><div></div><div></div><img alt=\"Loading\" src=\"/static/img/logo.svg?v=4\"/></div></div></div><noscript>In order to use this site, you need JavaScript enabled.</noscript><script>!function(){\"use strict\";const n=Boolean(\"localhost\"===window.location.hostname||\"[::1]\"===window.location.hostname||window.location.hostname.match(/^127(?:\\.(?:25[0-5]|2[0-4][0-9]|[01]?[0-9][0-9]?)){3}$/));window.addEventListener(\"load\",function(){\"serviceWorker\"in navigator&&(\"https:\"===window.location.protocol||n)&&navigator.serviceWorker.register(\"/OneSignalSDKWorker.js\").then(function(n){n.onupdatefound=function(){if(navigator.serviceWorker.controller){const e=n.installing;e.onstatechange=function(){switch(e.state){case\"installed\":document.getElementById(\"app\").dispatchEvent(new Event(\"newserviceworkerinstalled\"));break;case\"redundant\":throw new Error(\"The installing service worker became redundant.\")}}}}}).catch(function(n){console.error(\"Error during service worker registration:\",n)})})}();</script><script src=\"/static/js/app.6c0cd348f9458b5b314a.js\" type=\"text/javascript\"></script><script src=\"/static/js/55.6e762cfed20e160c5469.js\" type=\"text/javascript\"></script></body></html>>"
      ]
     },
     "metadata": {},
     "execution_count": 11
    }
   ],
   "source": [
    "s.prettify"
   ]
  },
  {
   "cell_type": "code",
   "execution_count": 55,
   "metadata": {},
   "outputs": [],
   "source": [
    "from selenium import webdriver"
   ]
  },
  {
   "cell_type": "code",
   "execution_count": 56,
   "metadata": {},
   "outputs": [],
   "source": [
    "url = 'https://www.vivaair.com/co/es/vuelo?DepartureCity=BOG&ArrivalCity=ADZ&DepartureDate=2021-04-01&ReturnDate=2021-04-11&Adults=2&Currency=COP'"
   ]
  },
  {
   "cell_type": "code",
   "execution_count": 57,
   "metadata": {},
   "outputs": [],
   "source": [
    "options = webdriver.ChromeOptions()\n",
    "options.add_argument('--incognito')\n",
    "driver = webdriver.Chrome(executable_path='dchrome/chromedriver.exe', options=options)"
   ]
  },
  {
   "cell_type": "code",
   "execution_count": 58,
   "metadata": {},
   "outputs": [],
   "source": [
    "driver.get(url)"
   ]
  },
  {
   "cell_type": "code",
   "execution_count": 59,
   "metadata": {},
   "outputs": [
    {
     "output_type": "execute_result",
     "data": {
      "text/plain": [
       "[<selenium.webdriver.remote.webelement.WebElement (session=\"401aca175fee3c1feca27f5a980380f2\", element=\"8805f0cd-0b70-4084-8fee-8f509c1aaf95\")>,\n",
       " <selenium.webdriver.remote.webelement.WebElement (session=\"401aca175fee3c1feca27f5a980380f2\", element=\"fbd1708e-9aea-4fc0-bc05-4d257b842b20\")>,\n",
       " <selenium.webdriver.remote.webelement.WebElement (session=\"401aca175fee3c1feca27f5a980380f2\", element=\"ebd5fd07-ef81-4ee6-ae67-569deb0f36b4\")>,\n",
       " <selenium.webdriver.remote.webelement.WebElement (session=\"401aca175fee3c1feca27f5a980380f2\", element=\"56921309-ac45-4d0c-8f07-21c535a80cee\")>,\n",
       " <selenium.webdriver.remote.webelement.WebElement (session=\"401aca175fee3c1feca27f5a980380f2\", element=\"fd2e0e61-38b2-4daf-93f7-3127ac34a892\")>,\n",
       " <selenium.webdriver.remote.webelement.WebElement (session=\"401aca175fee3c1feca27f5a980380f2\", element=\"d760417d-4c4e-4598-87e7-1b03e52de0ef\")>,\n",
       " <selenium.webdriver.remote.webelement.WebElement (session=\"401aca175fee3c1feca27f5a980380f2\", element=\"0a1f1908-648b-4c27-9a75-1ff88fc5b416\")>,\n",
       " <selenium.webdriver.remote.webelement.WebElement (session=\"401aca175fee3c1feca27f5a980380f2\", element=\"b9e329af-e36a-4701-b29d-ade2d67e2c77\")>,\n",
       " <selenium.webdriver.remote.webelement.WebElement (session=\"401aca175fee3c1feca27f5a980380f2\", element=\"ea6b9edf-b11c-4767-ad1d-a23883557588\")>,\n",
       " <selenium.webdriver.remote.webelement.WebElement (session=\"401aca175fee3c1feca27f5a980380f2\", element=\"d1746f77-4b0a-4b1d-89be-2fb15cd2a973\")>,\n",
       " <selenium.webdriver.remote.webelement.WebElement (session=\"401aca175fee3c1feca27f5a980380f2\", element=\"2f8227f2-4073-4ce6-8a1d-48cb2f1c081b\")>]"
      ]
     },
     "metadata": {},
     "execution_count": 59
    }
   ],
   "source": [
    "vuelos = driver.find_elements_by_xpath('//div[@class = \"flight\"]')\n",
    "vuelos"
   ]
  },
  {
   "cell_type": "code",
   "execution_count": 60,
   "metadata": {},
   "outputs": [
    {
     "output_type": "execute_result",
     "data": {
      "text/plain": [
       "<selenium.webdriver.remote.webelement.WebElement (session=\"401aca175fee3c1feca27f5a980380f2\", element=\"ebd5fd07-ef81-4ee6-ae67-569deb0f36b4\")>"
      ]
     },
     "metadata": {},
     "execution_count": 60
    }
   ],
   "source": [
    "vuelo = vuelos[2]\n",
    "vuelo"
   ]
  },
  {
   "cell_type": "code",
   "execution_count": 61,
   "metadata": {},
   "outputs": [
    {
     "output_type": "stream",
     "name": "stdout",
     "text": [
      "Hora salida: 10:39\nHora llegada: 16:02\n"
     ]
    }
   ],
   "source": [
    "horas = vuelo.find_elements_by_xpath('.//div[@class = \"time\"]')\n",
    "hora_salida = horas[0].text\n",
    "hora_llegada = horas[1].text\n",
    "print(f'Hora salida: {hora_salida}')\n",
    "print(f'Hora llegada: {hora_llegada}')"
   ]
  },
  {
   "cell_type": "code",
   "execution_count": 62,
   "metadata": {},
   "outputs": [
    {
     "output_type": "stream",
     "name": "stdout",
     "text": [
      "Duración: 5h 23m - 1 Parada Ver detalles\n"
     ]
    }
   ],
   "source": [
    "duracion = vuelo.find_element_by_xpath('.//div[@class = \"duration\"]').text\n",
    "print(f'Duración: {duracion}')"
   ]
  },
  {
   "cell_type": "code",
   "execution_count": 63,
   "metadata": {},
   "outputs": [
    {
     "output_type": "execute_result",
     "data": {
      "text/plain": [
       "<selenium.webdriver.remote.webelement.WebElement (session=\"401aca175fee3c1feca27f5a980380f2\", element=\"44690d22-a009-4246-bc87-b435794f0f09\")>"
      ]
     },
     "metadata": {},
     "execution_count": 63
    }
   ],
   "source": [
    "boton_escalas = vuelo.find_element_by_xpath('.//span[@class = \"view-stops\"]')\n",
    "boton_escalas"
   ]
  },
  {
   "cell_type": "code",
   "execution_count": 64,
   "metadata": {},
   "outputs": [],
   "source": [
    "boton_escalas.click()"
   ]
  },
  {
   "cell_type": "code",
   "execution_count": 65,
   "metadata": {},
   "outputs": [
    {
     "output_type": "stream",
     "name": "stdout",
     "text": [
      "Escalas: 1\n"
     ]
    }
   ],
   "source": [
    "segmentos_escalas = vuelo.find_elements_by_xpath('//div[@class=\"segment-step\"]')\n",
    "segmentos_escalas\n",
    "print(f'Escalas: {len(segmentos_escalas)-1}')"
   ]
  },
  {
   "cell_type": "code",
   "execution_count": 66,
   "metadata": {},
   "outputs": [],
   "source": [
    "segmento = segmentos_escalas[0]"
   ]
  },
  {
   "cell_type": "code",
   "execution_count": 67,
   "metadata": {},
   "outputs": [
    {
     "output_type": "execute_result",
     "data": {
      "text/plain": [
       "[<selenium.webdriver.remote.webelement.WebElement (session=\"401aca175fee3c1feca27f5a980380f2\", element=\"d6c955f0-8150-43f6-bf02-ec4f2bef5b76\")>,\n",
       " <selenium.webdriver.remote.webelement.WebElement (session=\"401aca175fee3c1feca27f5a980380f2\", element=\"17897714-a1e0-4a56-b552-2f96a1037a2a\")>]"
      ]
     },
     "metadata": {},
     "execution_count": 67
    }
   ],
   "source": [
    "segmento.find_elements_by_xpath('.//div[@class=\"segment-step-airport\"]')"
   ]
  },
  {
   "cell_type": "code",
   "execution_count": 68,
   "metadata": {},
   "outputs": [
    {
     "output_type": "stream",
     "name": "stdout",
     "text": [
      "Salida escala ciudad: BOG\nSalida escala hora: 10:39\nSalida escala ciudad: MDE\nSalida escala hora: 11:44\n"
     ]
    }
   ],
   "source": [
    "salida_primera_escala =segmento.find_elements_by_xpath('.//div[@class=\"segment-step-airport\"]')[0].text\n",
    "ciudad_salida_escala = salida_primera_escala.split('\\n')[0]\n",
    "hora_salida_escala = salida_primera_escala.split('\\n')[1]\n",
    "print(f'Salida escala ciudad: {ciudad_salida_escala}')\n",
    "print(f'Salida escala hora: {hora_salida_escala}')\n",
    "llegada_primera_escala = segmento.find_elements_by_xpath('.//div[@class=\"segment-step-airport\"]')[1].text\n",
    "ciudad_llegada_escala = llegada_primera_escala.split('\\n')[0]\n",
    "hora_llegada_escala = llegada_primera_escala.split('\\n')[1]\n",
    "print(f'Salida escala ciudad: {ciudad_llegada_escala}')\n",
    "print(f'Salida escala hora: {hora_llegada_escala}')"
   ]
  },
  {
   "cell_type": "code",
   "execution_count": 69,
   "metadata": {},
   "outputs": [
    {
     "output_type": "stream",
     "name": "stdout",
     "text": [
      "Salida escala ciudad: MDE\nSalida escala hora: 14:14\nSalida escala ciudad: ADZ\nSalida escala hora: 16:02\n"
     ]
    }
   ],
   "source": [
    "segmento = segmentos_escalas[1]\n",
    "salida_segunda_escala =segmento.find_elements_by_xpath('.//div[@class=\"segment-step-airport\"]')[0].text\n",
    "ciudad_salida_escala = salida_segunda_escala.split('\\n')[0]\n",
    "hora_salida_escala = salida_segunda_escala.split('\\n')[1]\n",
    "print(f'Salida escala ciudad: {ciudad_salida_escala}')\n",
    "print(f'Salida escala hora: {hora_salida_escala}')\n",
    "llegada_segunda_escala = segmento.find_elements_by_xpath('.//div[@class=\"segment-step-airport\"]')[1].text\n",
    "ciudad_llegada_escala = llegada_segunda_escala.split('\\n')[0]\n",
    "hora_llegada_escala = llegada_segunda_escala.split('\\n')[1]\n",
    "print(f'Salida escala ciudad: {ciudad_llegada_escala}')\n",
    "print(f'Salida escala hora: {hora_llegada_escala}')"
   ]
  },
  {
   "cell_type": "code",
   "execution_count": 70,
   "metadata": {},
   "outputs": [
    {
     "output_type": "stream",
     "name": "stdout",
     "text": [
      "Duración parada: 2h\n"
     ]
    }
   ],
   "source": [
    "parada = segmento.find_element_by_xpath('//div[@class=\"stop-indicator\"]').text\n",
    "parada = parada.split()[1]\n",
    "print(f'Duración parada: {parada}')"
   ]
  },
  {
   "cell_type": "code",
   "execution_count": 74,
   "metadata": {},
   "outputs": [],
   "source": [
    "boton_escalas.click()"
   ]
  },
  {
   "cell_type": "code",
   "execution_count": 76,
   "metadata": {},
   "outputs": [],
   "source": [
    "vuelo.find_element_by_xpath('.//div[@class = \"segment-lowest-price isSelected\"]').click()"
   ]
  },
  {
   "cell_type": "code",
   "execution_count": 83,
   "metadata": {},
   "outputs": [
    {
     "output_type": "stream",
     "name": "stdout",
     "text": [
      "Tarifa A la carta: COP 193,689\nTarifa Combo+: COP 271,689\nTarifa Combo++: COP 193,689\n"
     ]
    }
   ],
   "source": [
    "tarifas = vuelo.find_elements_by_xpath('//div[@class=\"fare-information-container\"]//div[@class=\"price bold\"]')\n",
    "moneda = tarifas[0].text.split()[0]\n",
    "Tarifa_barata = tarifas[0].text.split()[1]\n",
    "Tarifa_media = tarifas[1].text.split()[1]\n",
    "Tarifa_plus = tarifas[0].text.split()[1]\n",
    "print(f'Tarifa A la carta: {Tarifa_barata}')\n",
    "print(f'Tarifa Combo+: {Tarifa_media}')\n",
    "print(f'Tarifa Combo++: {Tarifa_plus}')"
   ]
  },
  {
   "cell_type": "code",
   "execution_count": null,
   "metadata": {},
   "outputs": [],
   "source": [
    "# crear demora dinámica\n",
    "from selenium.webdriver.support.ui import WebDriverWait\n",
    "from selenium.webdriver.support import expected_conditions as EC\n",
    "from selenium.webdriver.common.by import By\n",
    "from selenium.common.exceptions import TimeoutException\n",
    "\n",
    "delay = 10\n",
    "try:\n",
    "    #demora\n",
    "    vuelo = webdriver(driver, delay).until(EC.presence_of_element_located(By.XPATH, '//div[@class = \"flight\"]'))\n",
    "    print('La página terminó de cargar')\n",
    "\n",
    "except TimeoutException:\n",
    "    print('La página tardó demasiado en cargar')"
   ]
  },
  {
   "cell_type": "code",
   "execution_count": 18,
   "metadata": {},
   "outputs": [],
   "source": [
    "driver.close()"
   ]
  }
 ]
}